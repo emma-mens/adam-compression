{
 "cells": [
  {
   "cell_type": "code",
   "execution_count": null,
   "id": "66143904",
   "metadata": {},
   "outputs": [],
   "source": []
  },
  {
   "cell_type": "code",
   "execution_count": 2,
   "id": "6d9768d1",
   "metadata": {},
   "outputs": [],
   "source": [
    "b = [8.5390e-02, 9.5145e-05, 1.2836e-04, 7.1310e-05, 1.1018e-04, 1.4940e-04,\n",
    "                                       8.4038e-05, 1.8817e-02, 2.2679e-04, 3.0568e-04, 2.5377e-04, 1.0938e-03,\n",
    "                                       1.5123e-03, 9.3976e-04, 1.0209e-03, 1.4609e-03, 9.0317e-04, 9.1920e-04,\n",
    "                                       1.3846e-03, 8.6029e-04, 9.1414e-04, 1.3873e-03, 8.7357e-04, 7.7830e-04,\n",
    "                                       1.2063e-03, 7.1634e-04, 2.8711e-02, 4.1993e-04, 5.9782e-04, 5.4871e-04,\n",
    "                                       2.7344e-03, 4.7210e-03, 3.1744e-03, 2.7469e-03, 4.8962e-03, 3.3282e-03,\n",
    "                                       2.3945e-03, 3.9828e-03, 2.7343e-03, 5.1278e-02, 1.2221e-03, 2.0067e-03,\n",
    "                                       1.6974e-03, 8.1507e-03, 1.5585e-02, 1.0791e-02, 7.4503e-03, 1.6262e-02,\n",
    "                              1.1393e-02, 1.4635e-01, 5.3990e-03, 1.2732e-02, 1.7141e-02, 2.7901e-01]"
   ]
  },
  {
   "cell_type": "code",
   "execution_count": 1,
   "id": "56e34a0d",
   "metadata": {},
   "outputs": [],
   "source": [
    "a = [8.5330e-02, 9.5010e-05, 1.2819e-04, 7.1219e-05, 1.1005e-04, 1.4920e-04, 8.4019e-05, 1.8802e-02, \n",
    "     2.2653e-04, 3.0527e-04, 2.5367e-04, 1.0924e-03, 1.5105e-03, 9.3843e-04, 1.0195e-03, 1.4595e-03, \n",
    "     9.0406e-04, 9.1815e-04, 1.3831e-03, 8.5871e-04, 9.1265e-04, 1.3857e-03, 8.7361e-04, 7.7704e-04,\n",
    "     1.2053e-03, 7.1559e-04, 2.8675e-02, 4.1952e-04, 5.9727e-04, 5.4922e-04, 2.7318e-03, 4.7153e-03, \n",
    "     3.1697e-03, 2.7429e-03, 4.8915e-03, 3.3289e-03, 2.3954e-03, 3.9822e-03, 2.7352e-03, 5.1231e-02, \n",
    "     1.2203e-03, 2.0058e-03, 1.6944e-03, 8.1476e-03, 1.5560e-02, 1.0772e-02, 7.4452e-03, 1.6234e-02,\n",
    "     1.1367e-02, 1.4626e-01, 5.3856e-03, 1.2722e-02, 1.7076e-02, 2.7899e-01]"
   ]
  },
  {
   "cell_type": "code",
   "execution_count": 3,
   "id": "e0afdaa2",
   "metadata": {},
   "outputs": [],
   "source": [
    "import numpy as np"
   ]
  },
  {
   "cell_type": "code",
   "execution_count": 6,
   "id": "dd703715",
   "metadata": {},
   "outputs": [],
   "source": [
    "no_snr = np.array(a)\n",
    "snr = np.array(b)"
   ]
  },
  {
   "cell_type": "code",
   "execution_count": 8,
   "id": "eef05943",
   "metadata": {},
   "outputs": [
    {
     "name": "stdout",
     "output_type": "stream",
     "text": [
      "[6.00e-05 1.35e-07 1.70e-07 9.10e-08 1.30e-07 2.00e-07 1.90e-08 1.50e-05\n",
      " 2.60e-07 4.10e-07 1.00e-07 1.40e-06 1.80e-06 1.33e-06 1.40e-06 1.40e-06\n",
      " 8.90e-07 1.05e-06 1.50e-06 1.58e-06 1.49e-06 1.60e-06 4.00e-08 1.26e-06\n",
      " 1.00e-06 7.50e-07 3.60e-05 4.10e-07 5.50e-07 5.10e-07 2.60e-06 5.70e-06\n",
      " 4.70e-06 4.00e-06 4.70e-06 7.00e-07 9.00e-07 6.00e-07 9.00e-07 4.70e-05\n",
      " 1.80e-06 9.00e-07 3.00e-06 3.10e-06 2.50e-05 1.90e-05 5.10e-06 2.80e-05\n",
      " 2.60e-05 9.00e-05 1.34e-05 1.00e-05 6.50e-05 2.00e-05]\n"
     ]
    }
   ],
   "source": [
    "print(np.abs(snr - no_snr))"
   ]
  },
  {
   "cell_type": "code",
   "execution_count": null,
   "id": "71397a3b",
   "metadata": {},
   "outputs": [],
   "source": []
  }
 ],
 "metadata": {
  "kernelspec": {
   "display_name": "Python 3 (ipykernel)",
   "language": "python",
   "name": "python3"
  },
  "language_info": {
   "codemirror_mode": {
    "name": "ipython",
    "version": 3
   },
   "file_extension": ".py",
   "mimetype": "text/x-python",
   "name": "python",
   "nbconvert_exporter": "python",
   "pygments_lexer": "ipython3",
   "version": "3.9.5"
  }
 },
 "nbformat": 4,
 "nbformat_minor": 5
}
